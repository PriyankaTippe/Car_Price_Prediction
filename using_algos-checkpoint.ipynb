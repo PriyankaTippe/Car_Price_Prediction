{
 "cells": [
  {
   "cell_type": "code",
   "execution_count": 3,
   "id": "3d7fe71f-dfd0-4fc3-bb40-2981ab0951e9",
   "metadata": {},
   "outputs": [],
   "source": [
    "import numpy as np\n",
    "import pandas as pd\n",
    "import pickle as pkl"
   ]
  },
  {
   "cell_type": "code",
   "execution_count": 11,
   "id": "6906268f-f121-48cf-bc19-d6b7963637c2",
   "metadata": {},
   "outputs": [
    {
     "name": "stdin",
     "output_type": "stream",
     "text": [
      "enter company name :  Ford\n",
      "enter car name :  Figo\n",
      "enter year :  2000\n",
      "enter kms driven :  30000\n",
      "enter fuel type :  Petrol\n"
     ]
    },
    {
     "name": "stdout",
     "output_type": "stream",
     "text": [
      "You should buy it for ~ price :  108039\n"
     ]
    }
   ],
   "source": [
    "company=input(\"enter company name : \")\n",
    "name=input(\"enter car name : \")\n",
    "year=int(input(\"enter year : \"))\n",
    "kms_driven=int(input(\"enter kms driven : \"))\n",
    "fuel_type=input(\"enter fuel type : \")\n",
    "columns=[\"company\",\"name\",\"year\",\"kms_driven\",\"fuel_type\"]\n",
    "myinput=pd.DataFrame(columns=columns,data=[[company,name,year,kms_driven,fuel_type]])\n",
    "pipe=pkl.load(open(\"CarProject.pkl\",\"rb\"))\n",
    "result=pipe.predict(myinput)\n",
    "print(\"You should buy it for ~ price : \",abs(round(result[0,0])))\n"
   ]
  },
  {
   "cell_type": "code",
   "execution_count": null,
   "id": "4c9230fb-431a-43f1-955f-d74612db45d8",
   "metadata": {},
   "outputs": [],
   "source": []
  }
 ],
 "metadata": {
  "kernelspec": {
   "display_name": "Python [conda env:base] *",
   "language": "python",
   "name": "conda-base-py"
  },
  "language_info": {
   "codemirror_mode": {
    "name": "ipython",
    "version": 3
   },
   "file_extension": ".py",
   "mimetype": "text/x-python",
   "name": "python",
   "nbconvert_exporter": "python",
   "pygments_lexer": "ipython3",
   "version": "3.12.7"
  }
 },
 "nbformat": 4,
 "nbformat_minor": 5
}
